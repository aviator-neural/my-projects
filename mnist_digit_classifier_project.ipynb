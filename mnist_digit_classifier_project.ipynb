{
  "nbformat": 4,
  "nbformat_minor": 0,
  "metadata": {
    "colab": {
      "name": "mnist digit-classifier_project.ipynb",
      "provenance": [],
      "collapsed_sections": [],
      "mount_file_id": "1Qg_lVLa2MhoZhT2hlyQZUbm4GbKCq_qQ",
      "authorship_tag": "ABX9TyM8KOXENeSQGQEyW4HOmRKu",
      "include_colab_link": true
    },
    "kernelspec": {
      "name": "python3",
      "display_name": "Python 3"
    },
    "language_info": {
      "name": "python"
    },
    "accelerator": "GPU",
    "widgets": {
      "application/vnd.jupyter.widget-state+json": {
        "f4f2079d6b9544dfa81a893f6af57fb6": {
          "model_module": "@jupyter-widgets/controls",
          "model_name": "HBoxModel",
          "state": {
            "_view_name": "HBoxView",
            "_dom_classes": [],
            "_model_name": "HBoxModel",
            "_view_module": "@jupyter-widgets/controls",
            "_model_module_version": "1.5.0",
            "_view_count": null,
            "_view_module_version": "1.5.0",
            "box_style": "",
            "layout": "IPY_MODEL_7da119aa1fc24b98bdff7fc3a61fab63",
            "_model_module": "@jupyter-widgets/controls",
            "children": [
              "IPY_MODEL_c4549d2c03b74780b8631c34c81a9206",
              "IPY_MODEL_a446dceea6304667a19b47c528f7f75c"
            ]
          }
        },
        "7da119aa1fc24b98bdff7fc3a61fab63": {
          "model_module": "@jupyter-widgets/base",
          "model_name": "LayoutModel",
          "state": {
            "_view_name": "LayoutView",
            "grid_template_rows": null,
            "right": null,
            "justify_content": null,
            "_view_module": "@jupyter-widgets/base",
            "overflow": null,
            "_model_module_version": "1.2.0",
            "_view_count": null,
            "flex_flow": null,
            "width": null,
            "min_width": null,
            "border": null,
            "align_items": null,
            "bottom": null,
            "_model_module": "@jupyter-widgets/base",
            "top": null,
            "grid_column": null,
            "overflow_y": null,
            "overflow_x": null,
            "grid_auto_flow": null,
            "grid_area": null,
            "grid_template_columns": null,
            "flex": null,
            "_model_name": "LayoutModel",
            "justify_items": null,
            "grid_row": null,
            "max_height": null,
            "align_content": null,
            "visibility": null,
            "align_self": null,
            "height": null,
            "min_height": null,
            "padding": null,
            "grid_auto_rows": null,
            "grid_gap": null,
            "max_width": null,
            "order": null,
            "_view_module_version": "1.2.0",
            "grid_template_areas": null,
            "object_position": null,
            "object_fit": null,
            "grid_auto_columns": null,
            "margin": null,
            "display": null,
            "left": null
          }
        },
        "c4549d2c03b74780b8631c34c81a9206": {
          "model_module": "@jupyter-widgets/controls",
          "model_name": "FloatProgressModel",
          "state": {
            "_view_name": "ProgressView",
            "style": "IPY_MODEL_7cdb847536eb416d8b636a7b98dc64b2",
            "_dom_classes": [],
            "description": "100%",
            "_model_name": "FloatProgressModel",
            "bar_style": "success",
            "max": 46830571,
            "_view_module": "@jupyter-widgets/controls",
            "_model_module_version": "1.5.0",
            "value": 46830571,
            "_view_count": null,
            "_view_module_version": "1.5.0",
            "orientation": "horizontal",
            "min": 0,
            "description_tooltip": null,
            "_model_module": "@jupyter-widgets/controls",
            "layout": "IPY_MODEL_b87645eee9a04f3c9b1b3821e1bfaba1"
          }
        },
        "a446dceea6304667a19b47c528f7f75c": {
          "model_module": "@jupyter-widgets/controls",
          "model_name": "HTMLModel",
          "state": {
            "_view_name": "HTMLView",
            "style": "IPY_MODEL_9d46275aee4f45928825c30f625ec4cb",
            "_dom_classes": [],
            "description": "",
            "_model_name": "HTMLModel",
            "placeholder": "​",
            "_view_module": "@jupyter-widgets/controls",
            "_model_module_version": "1.5.0",
            "value": " 44.7M/44.7M [00:00&lt;00:00, 154MB/s]",
            "_view_count": null,
            "_view_module_version": "1.5.0",
            "description_tooltip": null,
            "_model_module": "@jupyter-widgets/controls",
            "layout": "IPY_MODEL_941ebeda18aa48a3b68e55fd09bca737"
          }
        },
        "7cdb847536eb416d8b636a7b98dc64b2": {
          "model_module": "@jupyter-widgets/controls",
          "model_name": "ProgressStyleModel",
          "state": {
            "_view_name": "StyleView",
            "_model_name": "ProgressStyleModel",
            "description_width": "initial",
            "_view_module": "@jupyter-widgets/base",
            "_model_module_version": "1.5.0",
            "_view_count": null,
            "_view_module_version": "1.2.0",
            "bar_color": null,
            "_model_module": "@jupyter-widgets/controls"
          }
        },
        "b87645eee9a04f3c9b1b3821e1bfaba1": {
          "model_module": "@jupyter-widgets/base",
          "model_name": "LayoutModel",
          "state": {
            "_view_name": "LayoutView",
            "grid_template_rows": null,
            "right": null,
            "justify_content": null,
            "_view_module": "@jupyter-widgets/base",
            "overflow": null,
            "_model_module_version": "1.2.0",
            "_view_count": null,
            "flex_flow": null,
            "width": null,
            "min_width": null,
            "border": null,
            "align_items": null,
            "bottom": null,
            "_model_module": "@jupyter-widgets/base",
            "top": null,
            "grid_column": null,
            "overflow_y": null,
            "overflow_x": null,
            "grid_auto_flow": null,
            "grid_area": null,
            "grid_template_columns": null,
            "flex": null,
            "_model_name": "LayoutModel",
            "justify_items": null,
            "grid_row": null,
            "max_height": null,
            "align_content": null,
            "visibility": null,
            "align_self": null,
            "height": null,
            "min_height": null,
            "padding": null,
            "grid_auto_rows": null,
            "grid_gap": null,
            "max_width": null,
            "order": null,
            "_view_module_version": "1.2.0",
            "grid_template_areas": null,
            "object_position": null,
            "object_fit": null,
            "grid_auto_columns": null,
            "margin": null,
            "display": null,
            "left": null
          }
        },
        "9d46275aee4f45928825c30f625ec4cb": {
          "model_module": "@jupyter-widgets/controls",
          "model_name": "DescriptionStyleModel",
          "state": {
            "_view_name": "StyleView",
            "_model_name": "DescriptionStyleModel",
            "description_width": "",
            "_view_module": "@jupyter-widgets/base",
            "_model_module_version": "1.5.0",
            "_view_count": null,
            "_view_module_version": "1.2.0",
            "_model_module": "@jupyter-widgets/controls"
          }
        },
        "941ebeda18aa48a3b68e55fd09bca737": {
          "model_module": "@jupyter-widgets/base",
          "model_name": "LayoutModel",
          "state": {
            "_view_name": "LayoutView",
            "grid_template_rows": null,
            "right": null,
            "justify_content": null,
            "_view_module": "@jupyter-widgets/base",
            "overflow": null,
            "_model_module_version": "1.2.0",
            "_view_count": null,
            "flex_flow": null,
            "width": null,
            "min_width": null,
            "border": null,
            "align_items": null,
            "bottom": null,
            "_model_module": "@jupyter-widgets/base",
            "top": null,
            "grid_column": null,
            "overflow_y": null,
            "overflow_x": null,
            "grid_auto_flow": null,
            "grid_area": null,
            "grid_template_columns": null,
            "flex": null,
            "_model_name": "LayoutModel",
            "justify_items": null,
            "grid_row": null,
            "max_height": null,
            "align_content": null,
            "visibility": null,
            "align_self": null,
            "height": null,
            "min_height": null,
            "padding": null,
            "grid_auto_rows": null,
            "grid_gap": null,
            "max_width": null,
            "order": null,
            "_view_module_version": "1.2.0",
            "grid_template_areas": null,
            "object_position": null,
            "object_fit": null,
            "grid_auto_columns": null,
            "margin": null,
            "display": null,
            "left": null
          }
        },
        "ae805a25127e4e4e8268c48ccd6b50f0": {
          "model_module": "@jupyter-widgets/controls",
          "model_name": "ButtonModel",
          "state": {
            "_view_name": "ButtonView",
            "style": "IPY_MODEL_ba44979242cf434dbb91dde399a524d4",
            "_dom_classes": [],
            "description": "Classify",
            "_model_name": "ButtonModel",
            "button_style": "",
            "_view_module": "@jupyter-widgets/controls",
            "_model_module_version": "1.5.0",
            "tooltip": "",
            "_view_count": null,
            "disabled": false,
            "_view_module_version": "1.5.0",
            "layout": "IPY_MODEL_62a64676c25947b5a61170a3b7a4c849",
            "_model_module": "@jupyter-widgets/controls",
            "icon": ""
          }
        },
        "ba44979242cf434dbb91dde399a524d4": {
          "model_module": "@jupyter-widgets/controls",
          "model_name": "ButtonStyleModel",
          "state": {
            "_view_name": "StyleView",
            "_model_name": "ButtonStyleModel",
            "_view_module": "@jupyter-widgets/base",
            "_model_module_version": "1.5.0",
            "_view_count": null,
            "button_color": null,
            "font_weight": "",
            "_view_module_version": "1.2.0",
            "_model_module": "@jupyter-widgets/controls"
          }
        },
        "62a64676c25947b5a61170a3b7a4c849": {
          "model_module": "@jupyter-widgets/base",
          "model_name": "LayoutModel",
          "state": {
            "_view_name": "LayoutView",
            "grid_template_rows": null,
            "right": null,
            "justify_content": null,
            "_view_module": "@jupyter-widgets/base",
            "overflow": null,
            "_model_module_version": "1.2.0",
            "_view_count": null,
            "flex_flow": null,
            "width": null,
            "min_width": null,
            "border": null,
            "align_items": null,
            "bottom": null,
            "_model_module": "@jupyter-widgets/base",
            "top": null,
            "grid_column": null,
            "overflow_y": null,
            "overflow_x": null,
            "grid_auto_flow": null,
            "grid_area": null,
            "grid_template_columns": null,
            "flex": null,
            "_model_name": "LayoutModel",
            "justify_items": null,
            "grid_row": null,
            "max_height": null,
            "align_content": null,
            "visibility": null,
            "align_self": null,
            "height": null,
            "min_height": null,
            "padding": null,
            "grid_auto_rows": null,
            "grid_gap": null,
            "max_width": null,
            "order": null,
            "_view_module_version": "1.2.0",
            "grid_template_areas": null,
            "object_position": null,
            "object_fit": null,
            "grid_auto_columns": null,
            "margin": null,
            "display": null,
            "left": null
          }
        },
        "19801c6657b34db297d96f733c609b8d": {
          "model_module": "@jupyter-widgets/controls",
          "model_name": "VBoxModel",
          "state": {
            "_view_name": "VBoxView",
            "_dom_classes": [],
            "_model_name": "VBoxModel",
            "_view_module": "@jupyter-widgets/controls",
            "_model_module_version": "1.5.0",
            "_view_count": null,
            "_view_module_version": "1.5.0",
            "box_style": "",
            "layout": "IPY_MODEL_f3d53c17a7db4091a66b6514da09c81b",
            "_model_module": "@jupyter-widgets/controls",
            "children": [
              "IPY_MODEL_4af24c7fc104437f81909bcbe5b6d6f8",
              "IPY_MODEL_6dce5524417447c49ede4054861c864a",
              "IPY_MODEL_ae805a25127e4e4e8268c48ccd6b50f0",
              "IPY_MODEL_318fe7ce7a754468ab5906b7e21e7eed",
              "IPY_MODEL_446b0b3733b145678dcba1a22d51c485"
            ]
          }
        },
        "f3d53c17a7db4091a66b6514da09c81b": {
          "model_module": "@jupyter-widgets/base",
          "model_name": "LayoutModel",
          "state": {
            "_view_name": "LayoutView",
            "grid_template_rows": null,
            "right": null,
            "justify_content": null,
            "_view_module": "@jupyter-widgets/base",
            "overflow": null,
            "_model_module_version": "1.2.0",
            "_view_count": null,
            "flex_flow": null,
            "width": null,
            "min_width": null,
            "border": null,
            "align_items": null,
            "bottom": null,
            "_model_module": "@jupyter-widgets/base",
            "top": null,
            "grid_column": null,
            "overflow_y": null,
            "overflow_x": null,
            "grid_auto_flow": null,
            "grid_area": null,
            "grid_template_columns": null,
            "flex": null,
            "_model_name": "LayoutModel",
            "justify_items": null,
            "grid_row": null,
            "max_height": null,
            "align_content": null,
            "visibility": null,
            "align_self": null,
            "height": null,
            "min_height": null,
            "padding": null,
            "grid_auto_rows": null,
            "grid_gap": null,
            "max_width": null,
            "order": null,
            "_view_module_version": "1.2.0",
            "grid_template_areas": null,
            "object_position": null,
            "object_fit": null,
            "grid_auto_columns": null,
            "margin": null,
            "display": null,
            "left": null
          }
        },
        "4af24c7fc104437f81909bcbe5b6d6f8": {
          "model_module": "@jupyter-widgets/controls",
          "model_name": "LabelModel",
          "state": {
            "_view_name": "LabelView",
            "style": "IPY_MODEL_b54143ff26d2467e879a89f262e0415a",
            "_dom_classes": [],
            "description": "",
            "_model_name": "LabelModel",
            "placeholder": "​",
            "_view_module": "@jupyter-widgets/controls",
            "_model_module_version": "1.5.0",
            "value": "Select the photo!",
            "_view_count": null,
            "_view_module_version": "1.5.0",
            "description_tooltip": null,
            "_model_module": "@jupyter-widgets/controls",
            "layout": "IPY_MODEL_468a9959749e4d32bd50d0c7ac0bb8c6"
          }
        },
        "6dce5524417447c49ede4054861c864a": {
          "model_module": "@jupyter-widgets/controls",
          "model_name": "FileUploadModel",
          "state": {
            "_view_name": "FileUploadView",
            "_counter": 2,
            "style": "IPY_MODEL_cd33bd03acf746c29f61ec2ef51e37a2",
            "_dom_classes": [],
            "description": "Upload",
            "multiple": false,
            "_model_name": "FileUploadModel",
            "data": [
              null
            ],
            "button_style": "",
            "_view_module": "@jupyter-widgets/controls",
            "_model_module_version": "1.5.0",
            "accept": "",
            "_view_count": null,
            "disabled": false,
            "_view_module_version": "1.5.0",
            "error": "",
            "description_tooltip": null,
            "metadata": [
              {
                "name": "Screenshot (16).png",
                "type": "image/png",
                "size": 61838,
                "lastModified": 1600718358104
              }
            ],
            "_model_module": "@jupyter-widgets/controls",
            "layout": "IPY_MODEL_d61e73e9ba584d58b40fa69aa1a4913b",
            "icon": "upload"
          }
        },
        "318fe7ce7a754468ab5906b7e21e7eed": {
          "model_module": "@jupyter-widgets/output",
          "model_name": "OutputModel",
          "state": {
            "_view_name": "OutputView",
            "msg_id": "",
            "_dom_classes": [],
            "_model_name": "OutputModel",
            "outputs": [
              {
                "output_type": "display_data",
                "metadata": {
                  "tags": []
                },
                "image/png": "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\n",
                "text/plain": "<PIL.Image.Image image mode=RGB size=128x95 at 0x7F9BEDCD29D0>"
              }
            ],
            "_view_module": "@jupyter-widgets/output",
            "_model_module_version": "1.0.0",
            "_view_count": null,
            "_view_module_version": "1.0.0",
            "layout": "IPY_MODEL_63a2bfef0ef244dfb3428fb840c9daa1",
            "_model_module": "@jupyter-widgets/output"
          }
        },
        "446b0b3733b145678dcba1a22d51c485": {
          "model_module": "@jupyter-widgets/controls",
          "model_name": "LabelModel",
          "state": {
            "_view_name": "LabelView",
            "style": "IPY_MODEL_164d37332cc8422ea405d784b9cbf0e5",
            "_dom_classes": [],
            "description": "",
            "_model_name": "LabelModel",
            "placeholder": "​",
            "_view_module": "@jupyter-widgets/controls",
            "_model_module_version": "1.5.0",
            "value": "Prediction: 1; Probability: 0.9562",
            "_view_count": null,
            "_view_module_version": "1.5.0",
            "description_tooltip": null,
            "_model_module": "@jupyter-widgets/controls",
            "layout": "IPY_MODEL_9a12f0c3386f4cd68c00ce5d97a36057"
          }
        },
        "b54143ff26d2467e879a89f262e0415a": {
          "model_module": "@jupyter-widgets/controls",
          "model_name": "DescriptionStyleModel",
          "state": {
            "_view_name": "StyleView",
            "_model_name": "DescriptionStyleModel",
            "description_width": "",
            "_view_module": "@jupyter-widgets/base",
            "_model_module_version": "1.5.0",
            "_view_count": null,
            "_view_module_version": "1.2.0",
            "_model_module": "@jupyter-widgets/controls"
          }
        },
        "468a9959749e4d32bd50d0c7ac0bb8c6": {
          "model_module": "@jupyter-widgets/base",
          "model_name": "LayoutModel",
          "state": {
            "_view_name": "LayoutView",
            "grid_template_rows": null,
            "right": null,
            "justify_content": null,
            "_view_module": "@jupyter-widgets/base",
            "overflow": null,
            "_model_module_version": "1.2.0",
            "_view_count": null,
            "flex_flow": null,
            "width": null,
            "min_width": null,
            "border": null,
            "align_items": null,
            "bottom": null,
            "_model_module": "@jupyter-widgets/base",
            "top": null,
            "grid_column": null,
            "overflow_y": null,
            "overflow_x": null,
            "grid_auto_flow": null,
            "grid_area": null,
            "grid_template_columns": null,
            "flex": null,
            "_model_name": "LayoutModel",
            "justify_items": null,
            "grid_row": null,
            "max_height": null,
            "align_content": null,
            "visibility": null,
            "align_self": null,
            "height": null,
            "min_height": null,
            "padding": null,
            "grid_auto_rows": null,
            "grid_gap": null,
            "max_width": null,
            "order": null,
            "_view_module_version": "1.2.0",
            "grid_template_areas": null,
            "object_position": null,
            "object_fit": null,
            "grid_auto_columns": null,
            "margin": null,
            "display": null,
            "left": null
          }
        },
        "cd33bd03acf746c29f61ec2ef51e37a2": {
          "model_module": "@jupyter-widgets/controls",
          "model_name": "ButtonStyleModel",
          "state": {
            "_view_name": "StyleView",
            "_model_name": "ButtonStyleModel",
            "_view_module": "@jupyter-widgets/base",
            "_model_module_version": "1.5.0",
            "_view_count": null,
            "button_color": null,
            "font_weight": "",
            "_view_module_version": "1.2.0",
            "_model_module": "@jupyter-widgets/controls"
          }
        },
        "d61e73e9ba584d58b40fa69aa1a4913b": {
          "model_module": "@jupyter-widgets/base",
          "model_name": "LayoutModel",
          "state": {
            "_view_name": "LayoutView",
            "grid_template_rows": null,
            "right": null,
            "justify_content": null,
            "_view_module": "@jupyter-widgets/base",
            "overflow": null,
            "_model_module_version": "1.2.0",
            "_view_count": null,
            "flex_flow": null,
            "width": null,
            "min_width": null,
            "border": null,
            "align_items": null,
            "bottom": null,
            "_model_module": "@jupyter-widgets/base",
            "top": null,
            "grid_column": null,
            "overflow_y": null,
            "overflow_x": null,
            "grid_auto_flow": null,
            "grid_area": null,
            "grid_template_columns": null,
            "flex": null,
            "_model_name": "LayoutModel",
            "justify_items": null,
            "grid_row": null,
            "max_height": null,
            "align_content": null,
            "visibility": null,
            "align_self": null,
            "height": null,
            "min_height": null,
            "padding": null,
            "grid_auto_rows": null,
            "grid_gap": null,
            "max_width": null,
            "order": null,
            "_view_module_version": "1.2.0",
            "grid_template_areas": null,
            "object_position": null,
            "object_fit": null,
            "grid_auto_columns": null,
            "margin": null,
            "display": null,
            "left": null
          }
        },
        "164d37332cc8422ea405d784b9cbf0e5": {
          "model_module": "@jupyter-widgets/controls",
          "model_name": "DescriptionStyleModel",
          "state": {
            "_view_name": "StyleView",
            "_model_name": "DescriptionStyleModel",
            "description_width": "",
            "_view_module": "@jupyter-widgets/base",
            "_model_module_version": "1.5.0",
            "_view_count": null,
            "_view_module_version": "1.2.0",
            "_model_module": "@jupyter-widgets/controls"
          }
        },
        "9a12f0c3386f4cd68c00ce5d97a36057": {
          "model_module": "@jupyter-widgets/base",
          "model_name": "LayoutModel",
          "state": {
            "_view_name": "LayoutView",
            "grid_template_rows": null,
            "right": null,
            "justify_content": null,
            "_view_module": "@jupyter-widgets/base",
            "overflow": null,
            "_model_module_version": "1.2.0",
            "_view_count": null,
            "flex_flow": null,
            "width": null,
            "min_width": null,
            "border": null,
            "align_items": null,
            "bottom": null,
            "_model_module": "@jupyter-widgets/base",
            "top": null,
            "grid_column": null,
            "overflow_y": null,
            "overflow_x": null,
            "grid_auto_flow": null,
            "grid_area": null,
            "grid_template_columns": null,
            "flex": null,
            "_model_name": "LayoutModel",
            "justify_items": null,
            "grid_row": null,
            "max_height": null,
            "align_content": null,
            "visibility": null,
            "align_self": null,
            "height": null,
            "min_height": null,
            "padding": null,
            "grid_auto_rows": null,
            "grid_gap": null,
            "max_width": null,
            "order": null,
            "_view_module_version": "1.2.0",
            "grid_template_areas": null,
            "object_position": null,
            "object_fit": null,
            "grid_auto_columns": null,
            "margin": null,
            "display": null,
            "left": null
          }
        },
        "63a2bfef0ef244dfb3428fb840c9daa1": {
          "model_module": "@jupyter-widgets/base",
          "model_name": "LayoutModel",
          "state": {
            "_view_name": "LayoutView",
            "grid_template_rows": null,
            "right": null,
            "justify_content": null,
            "_view_module": "@jupyter-widgets/base",
            "overflow": null,
            "_model_module_version": "1.2.0",
            "_view_count": null,
            "flex_flow": null,
            "width": null,
            "min_width": null,
            "border": null,
            "align_items": null,
            "bottom": null,
            "_model_module": "@jupyter-widgets/base",
            "top": null,
            "grid_column": null,
            "overflow_y": null,
            "overflow_x": null,
            "grid_auto_flow": null,
            "grid_area": null,
            "grid_template_columns": null,
            "flex": null,
            "_model_name": "LayoutModel",
            "justify_items": null,
            "grid_row": null,
            "max_height": null,
            "align_content": null,
            "visibility": null,
            "align_self": null,
            "height": null,
            "min_height": null,
            "padding": null,
            "grid_auto_rows": null,
            "grid_gap": null,
            "max_width": null,
            "order": null,
            "_view_module_version": "1.2.0",
            "grid_template_areas": null,
            "object_position": null,
            "object_fit": null,
            "grid_auto_columns": null,
            "margin": null,
            "display": null,
            "left": null
          }
        }
      }
    }
  },
  "cells": [
    {
      "cell_type": "markdown",
      "metadata": {
        "id": "view-in-github",
        "colab_type": "text"
      },
      "source": [
        "<a href=\"https://colab.research.google.com/github/aviator-neural/my-projects/blob/main/mnist_digit_classifier_project.ipynb\" target=\"_parent\"><img src=\"https://colab.research.google.com/assets/colab-badge.svg\" alt=\"Open In Colab\"/></a>"
      ]
    },
    {
      "cell_type": "code",
      "metadata": {
        "colab": {
          "base_uri": "https://localhost:8080/"
        },
        "id": "YYz3Ss2CesYD",
        "outputId": "08229812-450d-41bd-f2fb-e5580111689d"
      },
      "source": [
        "!pip install -Uqq fastbook\n",
        "import fastbook\n",
        "fastbook.setup_book()"
      ],
      "execution_count": 1,
      "outputs": [
        {
          "output_type": "stream",
          "text": [
            "\u001b[K     |████████████████████████████████| 727kB 4.1MB/s \n",
            "\u001b[K     |████████████████████████████████| 1.2MB 18.5MB/s \n",
            "\u001b[K     |████████████████████████████████| 51kB 6.7MB/s \n",
            "\u001b[K     |████████████████████████████████| 194kB 28.3MB/s \n",
            "\u001b[K     |████████████████████████████████| 61kB 6.8MB/s \n",
            "\u001b[K     |████████████████████████████████| 61kB 8.3MB/s \n",
            "\u001b[?25hMounted at /content/gdrive\n"
          ],
          "name": "stdout"
        }
      ]
    },
    {
      "cell_type": "code",
      "metadata": {
        "id": "7g8_nX6seyU8"
      },
      "source": [
        "from fastai.vision.all import *\n",
        "from fastbook import *\n",
        "from fastai.vision.widgets import *"
      ],
      "execution_count": 35,
      "outputs": []
    },
    {
      "cell_type": "code",
      "metadata": {
        "colab": {
          "base_uri": "https://localhost:8080/",
          "height": 17
        },
        "id": "dIsKaIh-eyXn",
        "outputId": "07aad301-4f21-4d30-d9a0-619a5e5e0b69"
      },
      "source": [
        "path = untar_data(URLs.MNIST)"
      ],
      "execution_count": 4,
      "outputs": [
        {
          "output_type": "display_data",
          "data": {
            "text/html": [
              ""
            ],
            "text/plain": [
              "<IPython.core.display.HTML object>"
            ]
          },
          "metadata": {
            "tags": []
          }
        }
      ]
    },
    {
      "cell_type": "code",
      "metadata": {
        "id": "9Z01ha-meyaZ"
      },
      "source": [
        "Path.BASE_PATH=path"
      ],
      "execution_count": 5,
      "outputs": []
    },
    {
      "cell_type": "code",
      "metadata": {
        "colab": {
          "base_uri": "https://localhost:8080/"
        },
        "id": "8gXkiLLJeydH",
        "outputId": "ef677b28-f5da-4d36-9d48-81c209ee9fd8"
      },
      "source": [
        "path.ls()"
      ],
      "execution_count": 5,
      "outputs": [
        {
          "output_type": "execute_result",
          "data": {
            "text/plain": [
              "(#2) [Path('testing'),Path('training')]"
            ]
          },
          "metadata": {
            "tags": []
          },
          "execution_count": 5
        }
      ]
    },
    {
      "cell_type": "code",
      "metadata": {
        "colab": {
          "base_uri": "https://localhost:8080/"
        },
        "id": "QmycDHCBeygO",
        "outputId": "f58eafc5-3214-4af0-e1a7-86517e6745ea"
      },
      "source": [
        "(path/('training')).ls(),(path/('testing')).ls()"
      ],
      "execution_count": 6,
      "outputs": [
        {
          "output_type": "execute_result",
          "data": {
            "text/plain": [
              "((#10) [Path('training/9'),Path('training/8'),Path('training/0'),Path('training/1'),Path('training/2'),Path('training/3'),Path('training/5'),Path('training/7'),Path('training/4'),Path('training/6')],\n",
              " (#10) [Path('testing/9'),Path('testing/8'),Path('testing/0'),Path('testing/1'),Path('testing/2'),Path('testing/3'),Path('testing/5'),Path('testing/7'),Path('testing/4'),Path('testing/6')])"
            ]
          },
          "metadata": {
            "tags": []
          },
          "execution_count": 6
        }
      ]
    },
    {
      "cell_type": "code",
      "metadata": {
        "id": "Hb5JIY6YeyjI"
      },
      "source": [
        "digits=DataBlock(blocks=(ImageBlock,CategoryBlock),\n",
        "                get_items=get_image_files,\n",
        "                splitter=GrandparentSplitter(train_name='training', valid_name='testing'),\n",
        "                get_y=parent_label,\n",
        "                item_tfms=Resize(128)\n",
        "                )"
      ],
      "execution_count": 6,
      "outputs": []
    },
    {
      "cell_type": "code",
      "metadata": {
        "id": "OyrNdkbZeymg"
      },
      "source": [
        "dls=digits.dataloaders(path)"
      ],
      "execution_count": 7,
      "outputs": []
    },
    {
      "cell_type": "code",
      "metadata": {
        "colab": {
          "base_uri": "https://localhost:8080/",
          "height": 536
        },
        "id": "CvX0Upl1eyp5",
        "outputId": "4712bf9a-4228-4e95-ff81-729526839563"
      },
      "source": [
        "dls.valid.show_batch(max_n=12, nrows=3)"
      ],
      "execution_count": 8,
      "outputs": [
        {
          "output_type": "display_data",
          "data": {
            "image/png": "[encoded data removed]",
            "text/plain": [
              "<Figure size 864x648 with 12 Axes>"
            ]
          },
          "metadata": {
            "tags": [],
            "needs_background": "light"
          }
        }
      ]
    },
    {
      "cell_type": "code",
      "metadata": {
        "colab": {
          "base_uri": "https://localhost:8080/",
          "height": 136,
          "referenced_widgets": [
            "f4f2079d6b9544dfa81a893f6af57fb6",
            "7da119aa1fc24b98bdff7fc3a61fab63",
            "c4549d2c03b74780b8631c34c81a9206",
            "a446dceea6304667a19b47c528f7f75c",
            "7cdb847536eb416d8b636a7b98dc64b2",
            "b87645eee9a04f3c9b1b3821e1bfaba1",
            "9d46275aee4f45928825c30f625ec4cb",
            "941ebeda18aa48a3b68e55fd09bca737"
          ]
        },
        "id": "zzCCE5_jeytR",
        "outputId": "e83ab1a1-c615-4006-c439-8663cc65d3c8"
      },
      "source": [
        "learn = cnn_learner(dls, resnet18, metrics=error_rate)"
      ],
      "execution_count": 10,
      "outputs": [
        {
          "output_type": "stream",
          "text": [
            "Downloading: \"https://download.pytorch.org/models/resnet18-f37072fd.pth\" to /root/.cache/torch/hub/checkpoints/resnet18-f37072fd.pth\n"
          ],
          "name": "stderr"
        },
        {
          "output_type": "display_data",
          "data": {
            "application/vnd.jupyter.widget-view+json": {
              "model_id": "f4f2079d6b9544dfa81a893f6af57fb6",
              "version_minor": 0,
              "version_major": 2
            },
            "text/plain": [
              "HBox(children=(FloatProgress(value=0.0, max=46830571.0), HTML(value='')))"
            ]
          },
          "metadata": {
            "tags": []
          }
        },
        {
          "output_type": "stream",
          "text": [
            "\n"
          ],
          "name": "stdout"
        },
        {
          "output_type": "stream",
          "text": [
            "/usr/local/lib/python3.7/dist-packages/torch/nn/functional.py:718: UserWarning: Named tensors and all their associated APIs are an experimental feature and subject to change. Please do not use them for anything important until they are released as stable. (Triggered internally at  /pytorch/c10/core/TensorImpl.h:1156.)\n",
            "  return torch.max_pool2d(input, kernel_size, stride, padding, dilation, ceil_mode)\n"
          ],
          "name": "stderr"
        }
      ]
    },
    {
      "cell_type": "code",
      "metadata": {
        "colab": {
          "base_uri": "https://localhost:8080/",
          "height": 300
        },
        "id": "STtaMJuMjo3u",
        "outputId": "0811d138-ced2-4ca1-a442-5282ac7da99b"
      },
      "source": [
        "learn.lr_find()"
      ],
      "execution_count": 11,
      "outputs": [
        {
          "output_type": "display_data",
          "data": {
            "text/html": [
              ""
            ],
            "text/plain": [
              "<IPython.core.display.HTML object>"
            ]
          },
          "metadata": {
            "tags": []
          }
        },
        {
          "output_type": "execute_result",
          "data": {
            "text/plain": [
              "SuggestedLRs(valley=0.0004786300996784121)"
            ]
          },
          "metadata": {
            "tags": []
          },
          "execution_count": 11
        },
        {
          "output_type": "display_data",
          "data": {
            "image/png": "[encoded data removed]",
            "text/plain": [
              "<Figure size 432x288 with 1 Axes>"
            ]
          },
          "metadata": {
            "tags": [],
            "needs_background": "light"
          }
        }
      ]
    },
    {
      "cell_type": "code",
      "metadata": {
        "colab": {
          "base_uri": "https://localhost:8080/",
          "height": 173
        },
        "id": "aoUxMyIujo6m",
        "outputId": "7f9a4f13-09d3-4392-98c6-bac8668d2ede"
      },
      "source": [
        "learn.fine_tune(2, base_lr=2e-3)"
      ],
      "execution_count": 12,
      "outputs": [
        {
          "output_type": "display_data",
          "data": {
            "text/html": [
              "<table border=\"1\" class=\"dataframe\">\n",
              "  <thead>\n",
              "    <tr style=\"text-align: left;\">\n",
              "      <th>epoch</th>\n",
              "      <th>train_loss</th>\n",
              "      <th>valid_loss</th>\n",
              "      <th>error_rate</th>\n",
              "      <th>time</th>\n",
              "    </tr>\n",
              "  </thead>\n",
              "  <tbody>\n",
              "    <tr>\n",
              "      <td>0</td>\n",
              "      <td>0.188516</td>\n",
              "      <td>0.109618</td>\n",
              "      <td>0.034900</td>\n",
              "      <td>01:47</td>\n",
              "    </tr>\n",
              "  </tbody>\n",
              "</table>"
            ],
            "text/plain": [
              "<IPython.core.display.HTML object>"
            ]
          },
          "metadata": {
            "tags": []
          }
        },
        {
          "output_type": "display_data",
          "data": {
            "text/html": [
              "<table border=\"1\" class=\"dataframe\">\n",
              "  <thead>\n",
              "    <tr style=\"text-align: left;\">\n",
              "      <th>epoch</th>\n",
              "      <th>train_loss</th>\n",
              "      <th>valid_loss</th>\n",
              "      <th>error_rate</th>\n",
              "      <th>time</th>\n",
              "    </tr>\n",
              "  </thead>\n",
              "  <tbody>\n",
              "    <tr>\n",
              "      <td>0</td>\n",
              "      <td>0.044279</td>\n",
              "      <td>0.031209</td>\n",
              "      <td>0.009300</td>\n",
              "      <td>01:57</td>\n",
              "    </tr>\n",
              "    <tr>\n",
              "      <td>1</td>\n",
              "      <td>0.019152</td>\n",
              "      <td>0.014255</td>\n",
              "      <td>0.004500</td>\n",
              "      <td>01:58</td>\n",
              "    </tr>\n",
              "  </tbody>\n",
              "</table>"
            ],
            "text/plain": [
              "<IPython.core.display.HTML object>"
            ]
          },
          "metadata": {
            "tags": []
          }
        }
      ]
    },
    {
      "cell_type": "code",
      "metadata": {
        "colab": {
          "base_uri": "https://localhost:8080/",
          "height": 311
        },
        "id": "cEkAoBF9jo9V",
        "outputId": "552c6b79-d923-4bb9-fd1a-5fb944a49a88"
      },
      "source": [
        "interp = ClassificationInterpretation.from_learner(learn)\n",
        "interp.plot_confusion_matrix()"
      ],
      "execution_count": 13,
      "outputs": [
        {
          "output_type": "display_data",
          "data": {
            "text/html": [
              ""
            ],
            "text/plain": [
              "<IPython.core.display.HTML object>"
            ]
          },
          "metadata": {
            "tags": []
          }
        },
        {
          "output_type": "display_data",
          "data": {
            "image/png": "[encoded data removed]",
            "text/plain": [
              "<Figure size 432x288 with 1 Axes>"
            ]
          },
          "metadata": {
            "tags": [],
            "needs_background": "light"
          }
        }
      ]
    },
    {
      "cell_type": "code",
      "metadata": {
        "colab": {
          "base_uri": "https://localhost:8080/",
          "height": 206
        },
        "id": "hJSW2xUnjpAa",
        "outputId": "3b3cc4cd-f7a7-4dd4-cf77-ba7278492277"
      },
      "source": [
        "interp.plot_top_losses(5, nrows=1)"
      ],
      "execution_count": 14,
      "outputs": [
        {
          "output_type": "display_data",
          "data": {
            "image/png": "[encoded data removed]",
            "text/plain": [
              "<Figure size 1080x216 with 5 Axes>"
            ]
          },
          "metadata": {
            "tags": [],
            "needs_background": "light"
          }
        }
      ]
    },
    {
      "cell_type": "code",
      "metadata": {
        "id": "Gz7mgNuljpDt"
      },
      "source": [
        "learn.export()"
      ],
      "execution_count": 15,
      "outputs": []
    },
    {
      "cell_type": "code",
      "metadata": {
        "colab": {
          "base_uri": "https://localhost:8080/"
        },
        "id": "6fuu130ajpGo",
        "outputId": "aec72251-a8d7-4a57-a48d-87ad2b053b4b"
      },
      "source": [
        "path = Path()\n",
        "path.ls()"
      ],
      "execution_count": 21,
      "outputs": [
        {
          "output_type": "execute_result",
          "data": {
            "text/plain": [
              "(#4) [Path('.config'),Path('gdrive'),Path('drive'),Path('sample_data')]"
            ]
          },
          "metadata": {
            "tags": []
          },
          "execution_count": 21
        }
      ]
    },
    {
      "cell_type": "code",
      "metadata": {
        "id": "vrtFH_DfjpJf"
      },
      "source": [
        "learn_inf = load_learner('/content/gdrive/MyDrive/mnist_classifier_project/export.pkl')"
      ],
      "execution_count": 13,
      "outputs": []
    },
    {
      "cell_type": "code",
      "metadata": {
        "colab": {
          "base_uri": "https://localhost:8080/"
        },
        "id": "40RmaX6k2Bra",
        "outputId": "c84416a4-a940-4ca8-e037-2c9340bcebbf"
      },
      "source": [
        "learn_inf.dls.vocab"
      ],
      "execution_count": 14,
      "outputs": [
        {
          "output_type": "execute_result",
          "data": {
            "text/plain": [
              "['0', '1', '2', '3', '4', '5', '6', '7', '8', '9']"
            ]
          },
          "metadata": {
            "tags": []
          },
          "execution_count": 14
        }
      ]
    },
    {
      "cell_type": "code",
      "metadata": {
        "colab": {
          "base_uri": "https://localhost:8080/",
          "height": 49,
          "referenced_widgets": [
            "ae805a25127e4e4e8268c48ccd6b50f0",
            "ba44979242cf434dbb91dde399a524d4",
            "62a64676c25947b5a61170a3b7a4c849"
          ]
        },
        "id": "lUxWctFEcBnq",
        "outputId": "28d492be-5aea-48ab-d0a2-991feb9eb830"
      },
      "source": [
        "btn_run = widgets.Button(description='Classify')\n",
        "btn_run"
      ],
      "execution_count": 36,
      "outputs": [
        {
          "output_type": "display_data",
          "data": {
            "application/vnd.jupyter.widget-view+json": {
              "model_id": "ae805a25127e4e4e8268c48ccd6b50f0",
              "version_minor": 0,
              "version_major": 2
            },
            "text/plain": [
              "Button(description='Classify', style=ButtonStyle())"
            ]
          },
          "metadata": {
            "tags": []
          }
        }
      ]
    },
    {
      "cell_type": "code",
      "metadata": {
        "id": "hel75BFzcBrP"
      },
      "source": [
        "def on_click_classify(change):\n",
        "    img = PILImage.create(btn_upload.data[-1])\n",
        "    out_pl.clear_output()\n",
        "    with out_pl: display(img.to_thumb(128,128))\n",
        "    pred,pred_idx,probs = learn_inf.predict(img)\n",
        "    lbl_pred.value = f'Prediction: {pred}; Probability: {probs[pred_idx]:.04f}'\n",
        "\n",
        "btn_run.on_click(on_click_classify)"
      ],
      "execution_count": 37,
      "outputs": []
    },
    {
      "cell_type": "code",
      "metadata": {
        "id": "wEsxddFDca-M"
      },
      "source": [
        "btn_upload = widgets.FileUpload()"
      ],
      "execution_count": 38,
      "outputs": []
    },
    {
      "cell_type": "code",
      "metadata": {
        "colab": {
          "base_uri": "https://localhost:8080/",
          "height": 240,
          "referenced_widgets": [
            "19801c6657b34db297d96f733c609b8d",
            "f3d53c17a7db4091a66b6514da09c81b",
            "4af24c7fc104437f81909bcbe5b6d6f8",
            "6dce5524417447c49ede4054861c864a",
            "ae805a25127e4e4e8268c48ccd6b50f0",
            "318fe7ce7a754468ab5906b7e21e7eed",
            "446b0b3733b145678dcba1a22d51c485",
            "b54143ff26d2467e879a89f262e0415a",
            "468a9959749e4d32bd50d0c7ac0bb8c6",
            "cd33bd03acf746c29f61ec2ef51e37a2",
            "d61e73e9ba584d58b40fa69aa1a4913b",
            "ba44979242cf434dbb91dde399a524d4",
            "62a64676c25947b5a61170a3b7a4c849",
            "164d37332cc8422ea405d784b9cbf0e5",
            "9a12f0c3386f4cd68c00ce5d97a36057",
            "63a2bfef0ef244dfb3428fb840c9daa1"
          ]
        },
        "id": "T_S_rxtacbA5",
        "outputId": "b8a2cbd5-2511-4f28-9071-3c1d23225903"
      },
      "source": [
        "VBox([widgets.Label('Select the photo!'), \n",
        "      btn_upload, btn_run, out_pl, lbl_pred])"
      ],
      "execution_count": 39,
      "outputs": [
        {
          "output_type": "display_data",
          "data": {
            "application/vnd.jupyter.widget-view+json": {
              "model_id": "19801c6657b34db297d96f733c609b8d",
              "version_minor": 0,
              "version_major": 2
            },
            "text/plain": [
              "VBox(children=(Label(value='Select the photo!'), FileUpload(value={}, description='Upload'), Button(descriptio…"
            ]
          },
          "metadata": {
            "tags": []
          }
        },
        {
          "output_type": "display_data",
          "data": {
            "text/html": [
              ""
            ],
            "text/plain": [
              "<IPython.core.display.HTML object>"
            ]
          },
          "metadata": {
            "tags": []
          }
        },
        {
          "output_type": "display_data",
          "data": {
            "text/html": [
              ""
            ],
            "text/plain": [
              "<IPython.core.display.HTML object>"
            ]
          },
          "metadata": {
            "tags": []
          }
        }
      ]
    },
    {
      "cell_type": "code",
      "metadata": {
        "id": "g9D7EnrrcbEa"
      },
      "source": [
        ""
      ],
      "execution_count": null,
      "outputs": []
    }
  ]
}