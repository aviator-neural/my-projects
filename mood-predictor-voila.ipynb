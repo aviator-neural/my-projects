{
 "cells": [
  {
   "cell_type": "markdown",
   "metadata": {
    "_cell_guid": "b1076dfc-b9ad-4769-8c92-a6c4dae69d19",
    "_uuid": "8f2839f25d086af736a60e9eeb907d3b93b6e0e5",
    "execution": {
     "iopub.execute_input": "2021-06-21T04:20:37.151263Z",
     "iopub.status.busy": "2021-06-21T04:20:37.150632Z",
     "iopub.status.idle": "2021-06-21T04:20:37.158861Z",
     "shell.execute_reply": "2021-06-21T04:20:37.157261Z",
     "shell.execute_reply.started": "2021-06-21T04:20:37.151157Z"
    }
   },
   "source": [
    "## The facial mood predictor"
   ]
  },
  {
   "cell_type": "markdown",
   "metadata": {},
   "source": [
    "This code predicts the moods of the person in the image and classify into three categories: 'Smiling', 'Sad', 'angry'."
   ]
  },
  {
   "cell_type": "code",
   "execution_count": 1,
   "metadata": {
    "execution": {
     "iopub.execute_input": "2021-06-21T09:54:50.158632Z",
     "iopub.status.busy": "2021-06-21T09:54:50.158353Z",
     "iopub.status.idle": "2021-06-21T09:54:50.162916Z",
     "shell.execute_reply": "2021-06-21T09:54:50.162329Z",
     "shell.execute_reply.started": "2021-06-21T09:54:50.158605Z"
    }
   },
   "outputs": [],
   "source": [
    "from fastai.vision.all import *\n",
    "from fastai.vision.widgets import *"
   ]
  },
  {
   "cell_type": "code",
   "execution_count": 3,
   "metadata": {},
   "outputs": [],
   "source": [
    "# path=Path()\n",
    "# import pathlib\n",
    "# temp = pathlib.PosixPath\n",
    "# pathlib.PosixPath = pathlib.WindowsPath"
   ]
  },
  {
   "cell_type": "code",
   "execution_count": 4,
   "metadata": {
    "execution": {
     "iopub.execute_input": "2021-06-21T09:54:44.141298Z",
     "iopub.status.busy": "2021-06-21T09:54:44.140285Z",
     "iopub.status.idle": "2021-06-21T09:54:50.156928Z",
     "shell.execute_reply": "2021-06-21T09:54:50.155822Z",
     "shell.execute_reply.started": "2021-06-21T09:54:44.141248Z"
    }
   },
   "outputs": [],
   "source": [
    "path = Path()\n",
    "learn_inf = load_learner(path/'export.pkl', cpu=True)"
   ]
  },
  {
   "cell_type": "code",
   "execution_count": 5,
   "metadata": {
    "execution": {
     "iopub.execute_input": "2021-06-21T09:54:50.164823Z",
     "iopub.status.busy": "2021-06-21T09:54:50.164592Z",
     "iopub.status.idle": "2021-06-21T09:54:50.242103Z",
     "shell.execute_reply": "2021-06-21T09:54:50.240822Z",
     "shell.execute_reply.started": "2021-06-21T09:54:50.164801Z"
    }
   },
   "outputs": [],
   "source": [
    "btn_upload = widgets.FileUpload()\n",
    "out_pl = widgets.Output()\n",
    "lbl_pred = widgets.Label()"
   ]
  },
  {
   "cell_type": "code",
   "execution_count": 6,
   "metadata": {
    "execution": {
     "iopub.execute_input": "2021-06-21T09:54:50.243664Z",
     "iopub.status.busy": "2021-06-21T09:54:50.243401Z",
     "iopub.status.idle": "2021-06-21T09:54:50.264221Z",
     "shell.execute_reply": "2021-06-21T09:54:50.263324Z",
     "shell.execute_reply.started": "2021-06-21T09:54:50.243640Z"
    }
   },
   "outputs": [],
   "source": [
    "def on_data_change(change):    \n",
    "    lbl_pred.value = ''     \n",
    "    img = PILImage.create(btn_upload.data[-1])     \n",
    "    out_pl.clear_output()     \n",
    "    with out_pl: display(img.to_thumb(128,128))     \n",
    "    pred,pred_idx,probs = learn_inf.predict(img)    \n",
    "    lbl_pred.value = f'Prediction: {pred}; Probability:{probs[pred_idx]:.04f}'"
   ]
  },
  {
   "cell_type": "code",
   "execution_count": 7,
   "metadata": {
    "execution": {
     "iopub.execute_input": "2021-06-21T09:54:50.265710Z",
     "iopub.status.busy": "2021-06-21T09:54:50.265456Z",
     "iopub.status.idle": "2021-06-21T09:54:50.273527Z",
     "shell.execute_reply": "2021-06-21T09:54:50.272930Z",
     "shell.execute_reply.started": "2021-06-21T09:54:50.265687Z"
    }
   },
   "outputs": [],
   "source": [
    "btn_upload.observe(on_data_change, names=['data'])"
   ]
  },
  {
   "cell_type": "code",
   "execution_count": 11,
   "metadata": {
    "execution": {
     "iopub.execute_input": "2021-06-21T09:54:50.287895Z",
     "iopub.status.busy": "2021-06-21T09:54:50.287695Z",
     "iopub.status.idle": "2021-06-21T09:54:50.311747Z",
     "shell.execute_reply": "2021-06-21T09:54:50.310949Z",
     "shell.execute_reply.started": "2021-06-21T09:54:50.287875Z"
    }
   },
   "outputs": [
    {
     "data": {
      "application/vnd.jupyter.widget-view+json": {
       "model_id": "0cdff94437a946cba416fafd78cbb7a7",
       "version_major": 2,
       "version_minor": 0
      },
      "text/plain": [
       "VBox(children=(Label(value='Select an Image of Malaria Parasite!'), FileUpload(value={'00000000 (2).jpg': {'me…"
      ]
     },
     "metadata": {},
     "output_type": "display_data"
    }
   ],
   "source": [
    "display(VBox([widgets.Label('Select an Image of Malaria Parasite!'), btn_upload, out_pl, lbl_pred]))"
   ]
  },
  {
   "cell_type": "code",
   "execution_count": 10,
   "metadata": {
    "execution": {
     "iopub.execute_input": "2021-06-21T09:54:50.313109Z",
     "iopub.status.busy": "2021-06-21T09:54:50.312869Z",
     "iopub.status.idle": "2021-06-21T09:54:59.443222Z",
     "shell.execute_reply": "2021-06-21T09:54:59.442315Z",
     "shell.execute_reply.started": "2021-06-21T09:54:50.313087Z"
    }
   },
   "outputs": [],
   "source": [
    "# !pip install voila\n",
    "# !jupyter servestarextension enable --sys-prefix voila"
   ]
  },
  {
   "cell_type": "code",
   "execution_count": null,
   "metadata": {},
   "outputs": [],
   "source": []
  },
  {
   "cell_type": "code",
   "execution_count": null,
   "metadata": {},
   "outputs": [],
   "source": []
  },
  {
   "cell_type": "code",
   "execution_count": null,
   "metadata": {},
   "outputs": [],
   "source": []
  },
  {
   "cell_type": "code",
   "execution_count": null,
   "metadata": {},
   "outputs": [],
   "source": []
  },
  {
   "cell_type": "code",
   "execution_count": null,
   "metadata": {},
   "outputs": [],
   "source": []
  },
  {
   "cell_type": "code",
   "execution_count": null,
   "metadata": {},
   "outputs": [],
   "source": []
  }
 ],
 "metadata": {
  "kernelspec": {
   "display_name": "Python 3",
   "language": "python",
   "name": "python3"
  },
  "language_info": {
   "codemirror_mode": {
    "name": "ipython",
    "version": 3
   },
   "file_extension": ".py",
   "mimetype": "text/x-python",
   "name": "python",
   "nbconvert_exporter": "python",
   "pygments_lexer": "ipython3",
   "version": "3.8.3"
  }
 },
 "nbformat": 4,
 "nbformat_minor": 4
}
