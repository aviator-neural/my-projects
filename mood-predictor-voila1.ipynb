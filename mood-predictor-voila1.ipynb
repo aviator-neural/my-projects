{
 "cells": [
  {
   "cell_type": "markdown",
   "metadata": {
    "_cell_guid": "b1076dfc-b9ad-4769-8c92-a6c4dae69d19",
    "_uuid": "8f2839f25d086af736a60e9eeb907d3b93b6e0e5",
    "execution": {
     "iopub.execute_input": "2021-06-21T04:20:37.151263Z",
     "iopub.status.busy": "2021-06-21T04:20:37.150632Z",
     "iopub.status.idle": "2021-06-21T04:20:37.158861Z",
     "shell.execute_reply": "2021-06-21T04:20:37.157261Z",
     "shell.execute_reply.started": "2021-06-21T04:20:37.151157Z"
    }
   },
   "source": [
    "## The facial mood predictor"
   ]
  },
  {
   "cell_type": "markdown",
   "metadata": {},
   "source": [
    "This code predicts the moods of the person in the image and classify into three categories: 'Smiling', 'Sad', 'angry'."
   ]
  },
  {
   "cell_type": "code",
   "execution_count": 1,
   "metadata": {
    "execution": {
     "iopub.execute_input": "2021-06-21T09:54:44.141298Z",
     "iopub.status.busy": "2021-06-21T09:54:44.140285Z",
     "iopub.status.idle": "2021-06-21T09:54:50.156928Z",
     "shell.execute_reply": "2021-06-21T09:54:50.155822Z",
     "shell.execute_reply.started": "2021-06-21T09:54:44.141248Z"
    }
   },
   "outputs": [
    {
     "name": "stderr",
     "output_type": "stream",
     "text": [
      "ERROR: spyder 4.1.4 requires pyqt5<5.13; python_version >= \"3\", which is not installed.\n",
      "ERROR: spyder 4.1.4 requires pyqtwebengine<5.13; python_version >= \"3\", which is not installed.\n",
      "ERROR: voila 0.2.10 has requirement nbconvert<7,>=6.0.0, but you'll have nbconvert 5.6.1 which is incompatible.\n",
      "C:\\Users\\piyus\\anaconda3\\lib\\site-packages\\fastbook\\__init__.py:18: UserWarning: Missing `graphviz` - please run `conda install fastbook`\n",
      "  except ModuleNotFoundError: warn(\"Missing `graphviz` - please run `conda install fastbook`\")\n"
     ]
    }
   ],
   "source": [
    "!pip install -Uqq fastbook\n",
    "import fastbook\n",
    "fastbook.setup_book()"
   ]
  },
  {
   "cell_type": "code",
   "execution_count": 2,
   "metadata": {
    "execution": {
     "iopub.execute_input": "2021-06-21T09:54:50.158632Z",
     "iopub.status.busy": "2021-06-21T09:54:50.158353Z",
     "iopub.status.idle": "2021-06-21T09:54:50.162916Z",
     "shell.execute_reply": "2021-06-21T09:54:50.162329Z",
     "shell.execute_reply.started": "2021-06-21T09:54:50.158605Z"
    }
   },
   "outputs": [],
   "source": [
    "from fastbook import *\n",
    "from fastai.vision.widgets import *\n",
    "import pickle"
   ]
  },
  {
   "cell_type": "code",
   "execution_count": 3,
   "metadata": {},
   "outputs": [],
   "source": [
    "import pathlib\n",
    "temp = pathlib.PosixPath\n",
    "pathlib.PosixPath = pathlib.WindowsPath"
   ]
  },
  {
   "cell_type": "code",
   "execution_count": 4,
   "metadata": {},
   "outputs": [],
   "source": [
    "# import os\n",
    "# notebook_path = os.path.abspath(\"export.pkl\")"
   ]
  },
  {
   "cell_type": "code",
   "execution_count": 5,
   "metadata": {
    "execution": {
     "iopub.execute_input": "2021-06-21T09:54:50.164823Z",
     "iopub.status.busy": "2021-06-21T09:54:50.164592Z",
     "iopub.status.idle": "2021-06-21T09:54:50.242103Z",
     "shell.execute_reply": "2021-06-21T09:54:50.240822Z",
     "shell.execute_reply.started": "2021-06-21T09:54:50.164801Z"
    }
   },
   "outputs": [],
   "source": [
    "\n",
    "btn_upload = widgets.FileUpload()\n",
    "out_pl = widgets.Output()\n",
    "lbl_pred=widgets.Label()"
   ]
  },
  {
   "cell_type": "code",
   "execution_count": 6,
   "metadata": {
    "execution": {
     "iopub.execute_input": "2021-06-21T09:54:50.243664Z",
     "iopub.status.busy": "2021-06-21T09:54:50.243401Z",
     "iopub.status.idle": "2021-06-21T09:54:50.264221Z",
     "shell.execute_reply": "2021-06-21T09:54:50.263324Z",
     "shell.execute_reply.started": "2021-06-21T09:54:50.243640Z"
    }
   },
   "outputs": [],
   "source": [
    "learn_inf = load_learner('export.pkl','rb')"
   ]
  },
  {
   "cell_type": "code",
   "execution_count": 7,
   "metadata": {
    "execution": {
     "iopub.execute_input": "2021-06-21T09:54:50.265710Z",
     "iopub.status.busy": "2021-06-21T09:54:50.265456Z",
     "iopub.status.idle": "2021-06-21T09:54:50.273527Z",
     "shell.execute_reply": "2021-06-21T09:54:50.272930Z",
     "shell.execute_reply.started": "2021-06-21T09:54:50.265687Z"
    }
   },
   "outputs": [],
   "source": [
    "def on_click(change):\n",
    "    img = PILImage.create(btn_upload.data[-1])\n",
    "    out_pl.clear_output()\n",
    "    with out_pl: display(img.to_thumb(128,128))\n",
    "    pred,pred_idx,probs = learn_inf.predict(img)\n",
    "    lbl_pred.value = f'Prediction: {pred}; Probability: {probs[pred_idx]:.04f}'\n"
   ]
  },
  {
   "cell_type": "code",
   "execution_count": 8,
   "metadata": {
    "execution": {
     "iopub.execute_input": "2021-06-21T09:54:50.274570Z",
     "iopub.status.busy": "2021-06-21T09:54:50.274334Z",
     "iopub.status.idle": "2021-06-21T09:54:50.286968Z",
     "shell.execute_reply": "2021-06-21T09:54:50.286152Z",
     "shell.execute_reply.started": "2021-06-21T09:54:50.274548Z"
    }
   },
   "outputs": [],
   "source": [
    "btn_upload.observe(on_click,names=['data'])"
   ]
  },
  {
   "cell_type": "code",
   "execution_count": 9,
   "metadata": {
    "execution": {
     "iopub.execute_input": "2021-06-21T09:54:50.287895Z",
     "iopub.status.busy": "2021-06-21T09:54:50.287695Z",
     "iopub.status.idle": "2021-06-21T09:54:50.311747Z",
     "shell.execute_reply": "2021-06-21T09:54:50.310949Z",
     "shell.execute_reply.started": "2021-06-21T09:54:50.287875Z"
    }
   },
   "outputs": [
    {
     "data": {
      "application/vnd.jupyter.widget-view+json": {
       "model_id": "6f82114d1f4546b58eadf43df1722689",
       "version_major": 2,
       "version_minor": 0
      },
      "text/plain": [
       "VBox(children=(Label(value='Select the photo!'), FileUpload(value={}, description='Upload'), Output(), Label(v…"
      ]
     },
     "metadata": {},
     "output_type": "display_data"
    },
    {
     "data": {
      "text/html": [],
      "text/plain": [
       "<IPython.core.display.HTML object>"
      ]
     },
     "metadata": {},
     "output_type": "display_data"
    },
    {
     "name": "stderr",
     "output_type": "stream",
     "text": [
      "C:\\Users\\piyus\\anaconda3\\lib\\site-packages\\torch\\nn\\functional.py:718: UserWarning: Named tensors and all their associated APIs are an experimental feature and subject to change. Please do not use them for anything important until they are released as stable. (Triggered internally at  ..\\c10/core/TensorImpl.h:1156.)\n",
      "  return torch.max_pool2d(input, kernel_size, stride, padding, dilation, ceil_mode)\n"
     ]
    }
   ],
   "source": [
    "VBox([widgets.Label('Select the photo!'), \n",
    "      btn_upload, out_pl, lbl_pred])"
   ]
  },
  {
   "cell_type": "code",
   "execution_count": 2,
   "metadata": {
    "execution": {
     "iopub.execute_input": "2021-06-21T09:54:50.313109Z",
     "iopub.status.busy": "2021-06-21T09:54:50.312869Z",
     "iopub.status.idle": "2021-06-21T09:54:59.443222Z",
     "shell.execute_reply": "2021-06-21T09:54:59.442315Z",
     "shell.execute_reply.started": "2021-06-21T09:54:50.313087Z"
    }
   },
   "outputs": [],
   "source": [
    "# !pip install voila\n",
    "# !jupyter servestarextension enable --sys-prefix voila"
   ]
  },
  {
   "cell_type": "code",
   "execution_count": null,
   "metadata": {},
   "outputs": [],
   "source": []
  },
  {
   "cell_type": "code",
   "execution_count": null,
   "metadata": {},
   "outputs": [],
   "source": []
  },
  {
   "cell_type": "code",
   "execution_count": null,
   "metadata": {},
   "outputs": [],
   "source": []
  },
  {
   "cell_type": "code",
   "execution_count": null,
   "metadata": {},
   "outputs": [],
   "source": []
  },
  {
   "cell_type": "code",
   "execution_count": null,
   "metadata": {},
   "outputs": [],
   "source": []
  },
  {
   "cell_type": "code",
   "execution_count": null,
   "metadata": {},
   "outputs": [],
   "source": []
  }
 ],
 "metadata": {
  "kernelspec": {
   "display_name": "Python 3",
   "language": "python",
   "name": "python3"
  },
  "language_info": {
   "codemirror_mode": {
    "name": "ipython",
    "version": 3
   },
   "file_extension": ".py",
   "mimetype": "text/x-python",
   "name": "python",
   "nbconvert_exporter": "python",
   "pygments_lexer": "ipython3",
   "version": "3.8.3"
  }
 },
 "nbformat": 4,
 "nbformat_minor": 4
}
